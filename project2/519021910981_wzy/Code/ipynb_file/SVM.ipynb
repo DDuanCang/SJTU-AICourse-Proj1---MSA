{
 "cells": [
  {
   "cell_type": "code",
   "execution_count": 1,
   "id": "9cf273d3",
   "metadata": {},
   "outputs": [
    {
     "name": "stdout",
     "output_type": "stream",
     "text": [
      "{'__header__': b'MATLAB 5.0 MAT-file Platform: posix, Created on: Sun Mar 30 03:19:02 2014', '__version__': '1.0', '__globals__': [], 'mldata_descr_ordering': array([[array(['label'], dtype='<U5'), array(['data'], dtype='<U4')]],\n",
      "      dtype=object), 'data': array([[0, 0, 0, ..., 0, 0, 0],\n",
      "       [0, 0, 0, ..., 0, 0, 0],\n",
      "       [0, 0, 0, ..., 0, 0, 0],\n",
      "       ...,\n",
      "       [0, 0, 0, ..., 0, 0, 0],\n",
      "       [0, 0, 0, ..., 0, 0, 0],\n",
      "       [0, 0, 0, ..., 0, 0, 0]], dtype=uint8), 'label': array([[0., 0., 0., ..., 9., 9., 9.]])}\n"
     ]
    }
   ],
   "source": [
    "from sklearn import svm\n",
    "from sklearn.model_selection import train_test_split\n",
    "from sklearn import svm\n",
    "from sklearn.datasets import fetch_openml\n",
    "import numpy as np\n",
    "import pandas as pd\n",
    "import joblib\n",
    "\n",
    "from scipy.io import loadmat\n",
    "\n",
    "\n",
    "def load_mnist():\n",
    "    '''\n",
    "    output: x, y as numpy matrix, x and y type as np.uint8(0-255)\n",
    "    '''\n",
    "    mnist = fetch_openml(\"mnist_784\", version=1,\n",
    "                         as_frame=False, data_home='./datasets')\n",
    "    x, y = fetch_openml(\"mnist_784\", version=1,\n",
    "                        return_X_y=True, as_frame=False)\n",
    "    x, y = np.uint8(x), np.uint8(y)\n",
    "    return x, y, mnist\n",
    "\n",
    "\n",
    "'''\n",
    "x, y, mnist = load_mnist()\n",
    "print(x.shape)\n",
    "print(x)\n",
    "print(y.shape)\n",
    "print(y)\n",
    "# print(mnist)\n",
    "'''\n",
    "\n",
    "#mnist = fetch_openml(\"mnist_784\",data_home='./datasets')\n",
    "mnist = loadmat(\n",
    "    'D:\\\\Git\\\\SJTU-AICourse-Proj1---MSA\\\\proj2\\\\MNIST_svm\\\\datasets\\\\mnist-original.mat')\n",
    "mnist.keys()\n",
    "print(mnist)"
   ]
  },
  {
   "cell_type": "code",
   "execution_count": 2,
   "id": "88cb45d3",
   "metadata": {},
   "outputs": [
    {
     "name": "stdout",
     "output_type": "stream",
     "text": [
      "(70000, 784)\n",
      "[[0 0 0 ... 0 0 0]\n",
      " [0 0 0 ... 0 0 0]\n",
      " [0 0 0 ... 0 0 0]\n",
      " ...\n",
      " [0 0 0 ... 0 0 0]\n",
      " [0 0 0 ... 0 0 0]\n",
      " [0 0 0 ... 0 0 0]]\n",
      "(70000,)\n",
      "[0. 0. 0. ... 9. 9. 9.]\n"
     ]
    }
   ],
   "source": [
    "x = mnist['data']\n",
    "y = mnist['label']\n",
    "x = np.swapaxes(x, 0, 1)\n",
    "print(x.shape)\n",
    "print(x)\n",
    "y = np.squeeze(y)\n",
    "print(y.shape)\n",
    "print(y)"
   ]
  },
  {
   "cell_type": "code",
   "execution_count": 3,
   "id": "8841bb1c",
   "metadata": {},
   "outputs": [],
   "source": [
    "x_train, x_test, y_train, y_test = train_test_split(\n",
    "    x, y, test_size=0.25, random_state=40)\n",
    "# parameters:\n",
    "# X_train,X_test, y_train, y_test =sklearn.model_selection.train_test_split(train_data,train_target,test_size=0.4, random_state=0,stratify=y_train)\n",
    "# train_data\n",
    "# train_target\n",
    "# test_size: float or int,default=None; if float, should be between 0.0 and 1.0 and represent the proportion of the dataset to include in the test split.If int, represents the absolute number of test samples. If None, the value is set to the complement of the train size. If train_size is also None, it will be set to 0.25.\n",
    "# train_size: float or int, default=None; If float, should be between 0.0 and 1.0 and represent the proportion of the dataset to include in the train split. If int, represents the absolute number of train samples. If None, the value is automatically set to the complement of the test size.\n",
    "# random_state: int,RandomState instance or None,default=None; Controls the shuffling applied to the data before applying the split. Pass an int for reproducible output across multiple function calls.\n",
    "# shuffle: bool,default=True; Whether or not to shuffle the data before splitting. If shuffle=False then stratify must be None.\n",
    "# stratify: array-like,default=None;\n",
    "# return: splitting: list, length=2*len(arrays)"
   ]
  },
  {
   "cell_type": "code",
   "execution_count": 4,
   "id": "32bbf3a0",
   "metadata": {},
   "outputs": [],
   "source": [
    "\"\"\"\n",
    "svm.attribute:\n",
    "    svm.LinearSVC\n",
    "    svm.LinearSVR\n",
    "    svm.NuSVC\n",
    "    svm.VuSVR\n",
    "    svm.OneClassSVM\n",
    "    svm.SVC\n",
    "    svm.SVR\n",
    "    svm.l1_min_c\n",
    "\"\"\"\n",
    "predictor = svm.SVC(gamma='scale', C=1.0,\n",
    "                    decision_function_shape='ovr', kernel='rbf')\n",
    "# parameters:\n",
    "# C: float,default=1.0; must be strictly positive\n",
    "# kernel: 'linear','poly','rbf','sigmoid','precomputed',default='rbf'\n",
    "# degree: int,default=3; degree of the poly nomial kernel function('poly'), ignored by other kernel\n",
    "# gamma: {'scale','auto'} or float, default='scale'; kernel coefficient for 'rbf','poly' and 'sigmoid'\n",
    "# coef0: float, default=0.0; independent term in kernel function, only significant in 'poly' and 'sigmoid'\n",
    "# shrinking: bool,default=True; whether to use the shrinking heuristic\n",
    "# probability: bool,default=False; whether to enable probability estimates. this must be enabled prior to calling fit, will slow down that method as it internally uses 5-fold cross-validation, and predict_proba may be inconsistent with predict.\n",
    "# tol: float, default=1e-3; tolerance for stopping criterion\n",
    "# cache_size:fit,default=200; specify the size of the kernel cache(in MB)\n",
    "# class_weight: dict or 'balanced',default=None; Set the parameter C of class i to class_weight[i]*C for SVC. If not given, all classes are supposed to have weight one. The “balanced” mode uses the values of y to automatically adjust weights inversely proportional to class frequencies in the input data as n_samples / (n_classes * np.bincount(y))\n",
    "# verbose: bool,default=False; enable verbose output.\n",
    "# max_iter: int,default=-1; hard limit on iterations within solver, or -1 for no limit\n",
    "# decision_function_shape: {'ovo','ovr'},default='ovr';\n",
    "# ovo: one versus one, it will build k*(k-1)/2 classifiers for k kinds\n",
    "# ovr: one versus rest, it will build k classifiers for k kinds\n",
    "# break_ties: bool,default=False; If true, decision_function_shape='ovr', and number of classes > 2, predict will break ties according to the confidence values of decision_function; otherwise the first class among the tied classes is returned.\n",
    "# random_state: int,RandomState instance or None,default=None; Controls the pseudo random number generation for shuffling the data for probability estimates. Ignored when probability is False. Pass an int for reproducible output across multiple function calls.\n"
   ]
  },
  {
   "cell_type": "code",
   "execution_count": 5,
   "id": "8682795a",
   "metadata": {},
   "outputs": [
    {
     "data": {
      "text/html": [
       "<style>#sk-container-id-1 {color: black;background-color: white;}#sk-container-id-1 pre{padding: 0;}#sk-container-id-1 div.sk-toggleable {background-color: white;}#sk-container-id-1 label.sk-toggleable__label {cursor: pointer;display: block;width: 100%;margin-bottom: 0;padding: 0.3em;box-sizing: border-box;text-align: center;}#sk-container-id-1 label.sk-toggleable__label-arrow:before {content: \"▸\";float: left;margin-right: 0.25em;color: #696969;}#sk-container-id-1 label.sk-toggleable__label-arrow:hover:before {color: black;}#sk-container-id-1 div.sk-estimator:hover label.sk-toggleable__label-arrow:before {color: black;}#sk-container-id-1 div.sk-toggleable__content {max-height: 0;max-width: 0;overflow: hidden;text-align: left;background-color: #f0f8ff;}#sk-container-id-1 div.sk-toggleable__content pre {margin: 0.2em;color: black;border-radius: 0.25em;background-color: #f0f8ff;}#sk-container-id-1 input.sk-toggleable__control:checked~div.sk-toggleable__content {max-height: 200px;max-width: 100%;overflow: auto;}#sk-container-id-1 input.sk-toggleable__control:checked~label.sk-toggleable__label-arrow:before {content: \"▾\";}#sk-container-id-1 div.sk-estimator input.sk-toggleable__control:checked~label.sk-toggleable__label {background-color: #d4ebff;}#sk-container-id-1 div.sk-label input.sk-toggleable__control:checked~label.sk-toggleable__label {background-color: #d4ebff;}#sk-container-id-1 input.sk-hidden--visually {border: 0;clip: rect(1px 1px 1px 1px);clip: rect(1px, 1px, 1px, 1px);height: 1px;margin: -1px;overflow: hidden;padding: 0;position: absolute;width: 1px;}#sk-container-id-1 div.sk-estimator {font-family: monospace;background-color: #f0f8ff;border: 1px dotted black;border-radius: 0.25em;box-sizing: border-box;margin-bottom: 0.5em;}#sk-container-id-1 div.sk-estimator:hover {background-color: #d4ebff;}#sk-container-id-1 div.sk-parallel-item::after {content: \"\";width: 100%;border-bottom: 1px solid gray;flex-grow: 1;}#sk-container-id-1 div.sk-label:hover label.sk-toggleable__label {background-color: #d4ebff;}#sk-container-id-1 div.sk-serial::before {content: \"\";position: absolute;border-left: 1px solid gray;box-sizing: border-box;top: 0;bottom: 0;left: 50%;z-index: 0;}#sk-container-id-1 div.sk-serial {display: flex;flex-direction: column;align-items: center;background-color: white;padding-right: 0.2em;padding-left: 0.2em;position: relative;}#sk-container-id-1 div.sk-item {position: relative;z-index: 1;}#sk-container-id-1 div.sk-parallel {display: flex;align-items: stretch;justify-content: center;background-color: white;position: relative;}#sk-container-id-1 div.sk-item::before, #sk-container-id-1 div.sk-parallel-item::before {content: \"\";position: absolute;border-left: 1px solid gray;box-sizing: border-box;top: 0;bottom: 0;left: 50%;z-index: -1;}#sk-container-id-1 div.sk-parallel-item {display: flex;flex-direction: column;z-index: 1;position: relative;background-color: white;}#sk-container-id-1 div.sk-parallel-item:first-child::after {align-self: flex-end;width: 50%;}#sk-container-id-1 div.sk-parallel-item:last-child::after {align-self: flex-start;width: 50%;}#sk-container-id-1 div.sk-parallel-item:only-child::after {width: 0;}#sk-container-id-1 div.sk-dashed-wrapped {border: 1px dashed gray;margin: 0 0.4em 0.5em 0.4em;box-sizing: border-box;padding-bottom: 0.4em;background-color: white;}#sk-container-id-1 div.sk-label label {font-family: monospace;font-weight: bold;display: inline-block;line-height: 1.2em;}#sk-container-id-1 div.sk-label-container {text-align: center;}#sk-container-id-1 div.sk-container {/* jupyter's `normalize.less` sets `[hidden] { display: none; }` but bootstrap.min.css set `[hidden] { display: none !important; }` so we also need the `!important` here to be able to override the default hidden behavior on the sphinx rendered scikit-learn.org. See: https://github.com/scikit-learn/scikit-learn/issues/21755 */display: inline-block !important;position: relative;}#sk-container-id-1 div.sk-text-repr-fallback {display: none;}</style><div id=\"sk-container-id-1\" class=\"sk-top-container\"><div class=\"sk-text-repr-fallback\"><pre>SVC()</pre><b>In a Jupyter environment, please rerun this cell to show the HTML representation or trust the notebook. <br />On GitHub, the HTML representation is unable to render, please try loading this page with nbviewer.org.</b></div><div class=\"sk-container\" hidden><div class=\"sk-item\"><div class=\"sk-estimator sk-toggleable\"><input class=\"sk-toggleable__control sk-hidden--visually\" id=\"sk-estimator-id-1\" type=\"checkbox\" checked><label for=\"sk-estimator-id-1\" class=\"sk-toggleable__label sk-toggleable__label-arrow\">SVC</label><div class=\"sk-toggleable__content\"><pre>SVC()</pre></div></div></div></div></div>"
      ],
      "text/plain": [
       "SVC()"
      ]
     },
     "execution_count": 5,
     "metadata": {},
     "output_type": "execute_result"
    }
   ],
   "source": [
    "predictor.fit(x_train, y_train)\n",
    "# fit(X,y,sample_weight=None): fit the SVM model according to the given training data\n",
    "# parameters:\n",
    "# X:train data\n",
    "# y:train data label\n",
    "# sample_weight:weight of the training data\n",
    "# return: self:object; fitted estimator"
   ]
  },
  {
   "cell_type": "code",
   "execution_count": 6,
   "id": "f4f27d98",
   "metadata": {},
   "outputs": [],
   "source": [
    "joblib.dump(predictor, 'svm.pkl')\n",
    "# save trained model to local file .pkl\n",
    "\n",
    "predictor = joblib.load('./svm.pkl')\n",
    "# load .pkl model from local file"
   ]
  },
  {
   "cell_type": "code",
   "execution_count": 7,
   "id": "2b3f420e",
   "metadata": {},
   "outputs": [
    {
     "name": "stdout",
     "output_type": "stream",
     "text": [
      "[3. 9. 8. ... 0. 2. 7.]\n",
      "0.9785142857142857\n"
     ]
    }
   ],
   "source": [
    "result = predictor.predict(x_test)\n",
    "# predict(X): perform classification on samples in X; for an one-class model,+1 or -1 is returned\n",
    "# parameters:\n",
    "# X:{array-like, sparse matrix} of shape (n_samples, n_features) or (n_samples_test, n_samples_train)\n",
    "# return: y_pred:ndarray of shape (n_samples,); Class labels for samples in X\n",
    "\n",
    "print(result)\n",
    "print(predictor.score(x_test, y_test))"
   ]
  },
  {
   "cell_type": "code",
   "execution_count": null,
   "id": "cca0a143",
   "metadata": {},
   "outputs": [],
   "source": []
  }
 ],
 "metadata": {
  "kernelspec": {
   "display_name": "Python 3 (ipykernel)",
   "language": "python",
   "name": "python3"
  },
  "language_info": {
   "codemirror_mode": {
    "name": "ipython",
    "version": 3
   },
   "file_extension": ".py",
   "mimetype": "text/x-python",
   "name": "python",
   "nbconvert_exporter": "python",
   "pygments_lexer": "ipython3",
   "version": "3.8.15"
  }
 },
 "nbformat": 4,
 "nbformat_minor": 5
}
