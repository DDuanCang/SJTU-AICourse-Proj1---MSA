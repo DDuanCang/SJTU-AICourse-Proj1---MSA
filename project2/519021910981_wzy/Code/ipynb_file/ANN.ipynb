{
 "cells": [
  {
   "cell_type": "code",
   "execution_count": 1,
   "id": "927b0e52",
   "metadata": {},
   "outputs": [
    {
     "data": {
      "text/plain": [
       "'1.13.0+cu117'"
      ]
     },
     "execution_count": 1,
     "metadata": {},
     "output_type": "execute_result"
    }
   ],
   "source": [
    "import torch\n",
    "import torch.nn as nn\n",
    "import torch.nn.functional as F\n",
    "import torch.optim as optim\n",
    "from torchvision.datasets import MNIST\n",
    "from torchvision.transforms import Compose,ToTensor,Normalize\n",
    "from torch.utils.data import DataLoader\n",
    "torch.__version__"
   ]
  },
  {
   "cell_type": "code",
   "execution_count": 2,
   "id": "fe829559",
   "metadata": {},
   "outputs": [
    {
     "name": "stdout",
     "output_type": "stream",
     "text": [
      "True\n"
     ]
    }
   ],
   "source": [
    "BATCH_SIZE=512\n",
    "#大概需要2G的显存\n",
    "EPOCHS=2 \n",
    "# 总共训练批次\n",
    "gpu_abailable=torch.cuda.is_available()\n",
    "print(gpu_abailable)\n",
    "DEVICE = torch.device(\"cuda\" if torch.cuda.is_available() else \"cpu\") \n",
    "# 判断是否使用GPU"
   ]
  },
  {
   "cell_type": "code",
   "execution_count": 3,
   "id": "cc248981",
   "metadata": {},
   "outputs": [],
   "source": [
    "def get_dataloader(train,batch_size=BATCH_SIZE):\n",
    "    transform_fn = Compose([\n",
    "        ToTensor(),\n",
    "        Normalize(mean = (0.1307,),std = (0.3081,))\n",
    "        ])#mean和std的形状与通道数相同\n",
    " \n",
    "    dataset = MNIST(download=True,root = './data',train = train,transform = transform_fn)\n",
    "    data_loader = DataLoader(dataset,batch_size = batch_size,shuffle = True)\n",
    "    return data_loader"
   ]
  },
  {
   "cell_type": "code",
   "execution_count": 4,
   "id": "a2720132",
   "metadata": {},
   "outputs": [
    {
     "data": {
      "text/plain": [
       "<torch.utils.data.dataloader.DataLoader at 0x1362ca0f790>"
      ]
     },
     "execution_count": 4,
     "metadata": {},
     "output_type": "execute_result"
    }
   ],
   "source": [
    "train_loader=get_dataloader(True)\n",
    "train_loader"
   ]
  },
  {
   "cell_type": "code",
   "execution_count": 5,
   "id": "c7f3661b",
   "metadata": {},
   "outputs": [
    {
     "data": {
      "text/plain": [
       "<torch.utils.data.dataloader.DataLoader at 0x1362ca0f790>"
      ]
     },
     "execution_count": 5,
     "metadata": {},
     "output_type": "execute_result"
    }
   ],
   "source": [
    "test_loader=get_dataloader(False)\n",
    "train_loader"
   ]
  },
  {
   "cell_type": "code",
   "execution_count": 6,
   "id": "66ff3959",
   "metadata": {},
   "outputs": [],
   "source": [
    "trainloader = torch.utils.data.DataLoader(\n",
    "        datasets.MNIST('data', train=True, download=True, \n",
    "                       transform=transforms.Compose([\n",
    "                           transforms.ToTensor(),\n",
    "                           transforms.Normalize((0.1307,), (0.3081,))\n",
    "                       ])),\n",
    "        batch_size=BATCH_SIZE, shuffle=True)"
   ]
  },
  {
   "cell_type": "code",
   "execution_count": 7,
   "id": "1f029ad4",
   "metadata": {},
   "outputs": [],
   "source": [
    "testloader = torch.utils.data.DataLoader(\n",
    "        datasets.MNIST('data', train=False, transform=transforms.Compose([\n",
    "                           transforms.ToTensor(),\n",
    "                           transforms.Normalize((0.1307,), (0.3081,))\n",
    "                       ])),\n",
    "        batch_size=BATCH_SIZE, shuffle=True)"
   ]
  },
  {
   "cell_type": "code",
   "execution_count": 8,
   "id": "79a1c673",
   "metadata": {},
   "outputs": [],
   "source": [
    "# Create ANN Model\n",
    "class ANNModel(nn.Module):\n",
    "     \n",
    "    def __init__(self):\n",
    "        super(ANNModel, self).__init__()\n",
    "         \n",
    "        # Linear function 1: 784 --> 150\n",
    "        self.fc1 = nn.Linear(1*28*28, 28)\n",
    "         \n",
    "        # Linear function 2: 150 --> 10\n",
    "        self.fc2 = nn.Linear(28, 10)\n",
    "        \n",
    "    \n",
    "    def forward(self, input):\n",
    "        #print('input size:',input.shape)\n",
    "        x = input.view([-1,1*28*28])\n",
    "        #print('input size:',x.shape)\n",
    "        # Linear function 1\n",
    "        x = self.fc1(x)\n",
    "        #print('input size:',x.shape)\n",
    "        # Non-linearity 1\n",
    "        x = F.relu(x)\n",
    "        #print('input size:',x.shape)\n",
    "         \n",
    "        # Linear function 2\n",
    "        out = self.fc2(x)\n",
    "        #print('input size:',out.shape)\n",
    "        \n",
    "        out = F.log_softmax(out,dim=1)\n",
    "   \n",
    "        return out"
   ]
  },
  {
   "cell_type": "code",
   "execution_count": 9,
   "id": "4fb79f14",
   "metadata": {},
   "outputs": [],
   "source": [
    "# 连接到GPU\n",
    "model = ANNModel().to(DEVICE)\n",
    "# 创建优化器并传入参数\n",
    "#optimizer = optim.Adam(model.parameters())\n",
    "learning_rate = 0.02\n",
    "optimizer = torch.optim.SGD(model.parameters(), lr=learning_rate)\n",
    "\n"
   ]
  },
  {
   "cell_type": "code",
   "execution_count": 10,
   "id": "22ed9cb9",
   "metadata": {},
   "outputs": [],
   "source": [
    "def train(model, device, train_loader, optimizer, epoch):\n",
    "    # 将模型转为train模式\n",
    "    model.train()\n",
    "    for batch_idx, (data,target) in enumerate(train_loader):\n",
    "        data, target = data.to(device), target.to(device)\n",
    "        # 重置优化器梯度\n",
    "        optimizer.zero_grad()\n",
    "        output = model(data)\n",
    "        loss = F.nll_loss(output,target)\n",
    "        loss.backward()\n",
    "        optimizer.step()\n",
    "        if((batch_idx)%30)==0:\n",
    "            print('Train Epoch: {} [{}/{} ({:.0f}%)]\\tLoss: {:.6f}'.format(\n",
    "                epoch, batch_idx * len(data), len(train_loader.dataset),\n",
    "                100. * batch_idx / len(train_loader), loss.item()))"
   ]
  },
  {
   "cell_type": "code",
   "execution_count": 11,
   "id": "e96be161",
   "metadata": {},
   "outputs": [],
   "source": [
    "def test(model,device,test_loader):\n",
    "    # 将模型转为test模式\n",
    "    model.eval()\n",
    "    test_loss=0\n",
    "    correct=0\n",
    "    with torch.no_grad():\n",
    "        for data,target in test_loader:\n",
    "            data,target = data.to(device),target.to(device)\n",
    "            output = model(data)\n",
    "            test_loss+= F.nll_loss(output,target,reduction='sum').item()\n",
    "            pred = output.max(1,keepdim=True)[1]\n",
    "            correct += pred.eq(target.view_as(pred)).sum().item()\n",
    "    \n",
    "    test_loss/=len(test_loader.dataset)\n",
    "    print('\\nTest set: Average loss: {:.4f}, Accuracy: {}/{} ({:.0f}%)\\n'.format(\n",
    "        test_loss, correct, len(test_loader.dataset),\n",
    "        100. * correct / len(test_loader.dataset)))\n",
    "            "
   ]
  },
  {
   "cell_type": "code",
   "execution_count": 12,
   "id": "ccb5fc27",
   "metadata": {},
   "outputs": [
    {
     "name": "stdout",
     "output_type": "stream",
     "text": [
      "Train Epoch: 1 [0/60000 (0%)]\tLoss: 2.297929\n",
      "Train Epoch: 1 [15360/60000 (25%)]\tLoss: 1.531602\n",
      "Train Epoch: 1 [30720/60000 (51%)]\tLoss: 1.020163\n",
      "Train Epoch: 1 [46080/60000 (76%)]\tLoss: 0.750876\n",
      "\n",
      "Test set: Average loss: 0.5919, Accuracy: 8612/10000 (86%)\n",
      "\n",
      "Train Epoch: 2 [0/60000 (0%)]\tLoss: 0.587130\n",
      "Train Epoch: 2 [15360/60000 (25%)]\tLoss: 0.545383\n",
      "Train Epoch: 2 [30720/60000 (51%)]\tLoss: 0.432324\n",
      "Train Epoch: 2 [46080/60000 (76%)]\tLoss: 0.385230\n",
      "\n",
      "Test set: Average loss: 0.4139, Accuracy: 8911/10000 (89%)\n",
      "\n"
     ]
    }
   ],
   "source": [
    "for epoch in range(1,EPOCHS+1):\n",
    "    train(model,DEVICE,train_loader,optimizer,epoch)\n",
    "    test(model,DEVICE,test_loader)"
   ]
  },
  {
   "cell_type": "code",
   "execution_count": null,
   "id": "3f94fc31",
   "metadata": {},
   "outputs": [],
   "source": []
  },
  {
   "cell_type": "code",
   "execution_count": null,
   "id": "98154c97",
   "metadata": {},
   "outputs": [],
   "source": []
  }
 ],
 "metadata": {
  "kernelspec": {
   "display_name": "Python 3 (ipykernel)",
   "language": "python",
   "name": "python3"
  },
  "language_info": {
   "codemirror_mode": {
    "name": "ipython",
    "version": 3
   },
   "file_extension": ".py",
   "mimetype": "text/x-python",
   "name": "python",
   "nbconvert_exporter": "python",
   "pygments_lexer": "ipython3",
   "version": "3.8.15"
  }
 },
 "nbformat": 4,
 "nbformat_minor": 5
}
